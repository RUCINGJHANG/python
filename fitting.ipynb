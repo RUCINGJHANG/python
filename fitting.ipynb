{
 "cells": [
  {
   "cell_type": "code",
   "execution_count": 1,
   "metadata": {},
   "outputs": [],
   "source": [
    "import pandas as pd"
   ]
  },
  {
   "cell_type": "code",
   "execution_count": 2,
   "metadata": {},
   "outputs": [],
   "source": [
    "data = pd.read_excel(\"strategy_results_train.xlsx\")"
   ]
  },
  {
   "cell_type": "code",
   "execution_count": 3,
   "metadata": {},
   "outputs": [
    {
     "data": {
      "text/html": [
       "<div>\n",
       "<style scoped>\n",
       "    .dataframe tbody tr th:only-of-type {\n",
       "        vertical-align: middle;\n",
       "    }\n",
       "\n",
       "    .dataframe tbody tr th {\n",
       "        vertical-align: top;\n",
       "    }\n",
       "\n",
       "    .dataframe thead th {\n",
       "        text-align: right;\n",
       "    }\n",
       "</style>\n",
       "<table border=\"1\" class=\"dataframe\">\n",
       "  <thead>\n",
       "    <tr style=\"text-align: right;\">\n",
       "      <th></th>\n",
       "      <th>id</th>\n",
       "      <th>label</th>\n",
       "      <th>date</th>\n",
       "      <th>open</th>\n",
       "      <th>high</th>\n",
       "      <th>low</th>\n",
       "      <th>close</th>\n",
       "      <th>volume</th>\n",
       "      <th>DEMA</th>\n",
       "      <th>slowk</th>\n",
       "      <th>slowd</th>\n",
       "      <th>ADX</th>\n",
       "    </tr>\n",
       "  </thead>\n",
       "  <tbody>\n",
       "    <tr>\n",
       "      <th>0</th>\n",
       "      <td>SHSE.600085_201501</td>\n",
       "      <td>0</td>\n",
       "      <td>2014-12-30</td>\n",
       "      <td>20.900000</td>\n",
       "      <td>22.090000</td>\n",
       "      <td>20.799999</td>\n",
       "      <td>22.049999</td>\n",
       "      <td>25457468.0</td>\n",
       "      <td>21.470082</td>\n",
       "      <td>60.969460</td>\n",
       "      <td>51.131750</td>\n",
       "      <td>32.298942</td>\n",
       "    </tr>\n",
       "    <tr>\n",
       "      <th>1</th>\n",
       "      <td>SHSE.600085_201502</td>\n",
       "      <td>1</td>\n",
       "      <td>2015-01-30</td>\n",
       "      <td>22.990000</td>\n",
       "      <td>23.190001</td>\n",
       "      <td>22.510000</td>\n",
       "      <td>22.580000</td>\n",
       "      <td>7880595.0</td>\n",
       "      <td>22.866685</td>\n",
       "      <td>4.780284</td>\n",
       "      <td>23.956938</td>\n",
       "      <td>19.624014</td>\n",
       "    </tr>\n",
       "    <tr>\n",
       "      <th>2</th>\n",
       "      <td>SHSE.600085_201503</td>\n",
       "      <td>1</td>\n",
       "      <td>2015-02-27</td>\n",
       "      <td>22.520000</td>\n",
       "      <td>22.670000</td>\n",
       "      <td>22.400000</td>\n",
       "      <td>22.540001</td>\n",
       "      <td>9263796.0</td>\n",
       "      <td>22.507301</td>\n",
       "      <td>74.944776</td>\n",
       "      <td>78.403583</td>\n",
       "      <td>35.901882</td>\n",
       "    </tr>\n",
       "    <tr>\n",
       "      <th>3</th>\n",
       "      <td>SHSE.600085_201504</td>\n",
       "      <td>1</td>\n",
       "      <td>2015-03-30</td>\n",
       "      <td>26.219999</td>\n",
       "      <td>26.440001</td>\n",
       "      <td>25.820000</td>\n",
       "      <td>26.230000</td>\n",
       "      <td>16125626.0</td>\n",
       "      <td>26.548768</td>\n",
       "      <td>72.816074</td>\n",
       "      <td>80.294550</td>\n",
       "      <td>60.397062</td>\n",
       "    </tr>\n",
       "    <tr>\n",
       "      <th>4</th>\n",
       "      <td>SHSE.600085_201505</td>\n",
       "      <td>1</td>\n",
       "      <td>2015-04-29</td>\n",
       "      <td>32.580002</td>\n",
       "      <td>33.639999</td>\n",
       "      <td>32.279999</td>\n",
       "      <td>33.180000</td>\n",
       "      <td>13959795.0</td>\n",
       "      <td>33.249689</td>\n",
       "      <td>45.784935</td>\n",
       "      <td>41.249892</td>\n",
       "      <td>43.171841</td>\n",
       "    </tr>\n",
       "  </tbody>\n",
       "</table>\n",
       "</div>"
      ],
      "text/plain": [
       "                   id  label       date       open       high        low  \\\n",
       "0  SHSE.600085_201501      0 2014-12-30  20.900000  22.090000  20.799999   \n",
       "1  SHSE.600085_201502      1 2015-01-30  22.990000  23.190001  22.510000   \n",
       "2  SHSE.600085_201503      1 2015-02-27  22.520000  22.670000  22.400000   \n",
       "3  SHSE.600085_201504      1 2015-03-30  26.219999  26.440001  25.820000   \n",
       "4  SHSE.600085_201505      1 2015-04-29  32.580002  33.639999  32.279999   \n",
       "\n",
       "       close      volume       DEMA      slowk      slowd        ADX  \n",
       "0  22.049999  25457468.0  21.470082  60.969460  51.131750  32.298942  \n",
       "1  22.580000   7880595.0  22.866685   4.780284  23.956938  19.624014  \n",
       "2  22.540001   9263796.0  22.507301  74.944776  78.403583  35.901882  \n",
       "3  26.230000  16125626.0  26.548768  72.816074  80.294550  60.397062  \n",
       "4  33.180000  13959795.0  33.249689  45.784935  41.249892  43.171841  "
      ]
     },
     "execution_count": 3,
     "metadata": {},
     "output_type": "execute_result"
    }
   ],
   "source": [
    "data.head()"
   ]
  },
  {
   "cell_type": "code",
   "execution_count": 4,
   "metadata": {},
   "outputs": [],
   "source": [
    "data2 = pd.concat( [data.iloc[:, 1], data.iloc[:, 8:]], axis=1)"
   ]
  },
  {
   "cell_type": "code",
   "execution_count": 5,
   "metadata": {},
   "outputs": [
    {
     "data": {
      "text/html": [
       "<div>\n",
       "<style scoped>\n",
       "    .dataframe tbody tr th:only-of-type {\n",
       "        vertical-align: middle;\n",
       "    }\n",
       "\n",
       "    .dataframe tbody tr th {\n",
       "        vertical-align: top;\n",
       "    }\n",
       "\n",
       "    .dataframe thead th {\n",
       "        text-align: right;\n",
       "    }\n",
       "</style>\n",
       "<table border=\"1\" class=\"dataframe\">\n",
       "  <thead>\n",
       "    <tr style=\"text-align: right;\">\n",
       "      <th></th>\n",
       "      <th>label</th>\n",
       "      <th>DEMA</th>\n",
       "      <th>slowk</th>\n",
       "      <th>slowd</th>\n",
       "      <th>ADX</th>\n",
       "    </tr>\n",
       "  </thead>\n",
       "  <tbody>\n",
       "    <tr>\n",
       "      <th>0</th>\n",
       "      <td>0</td>\n",
       "      <td>21.470082</td>\n",
       "      <td>60.969460</td>\n",
       "      <td>51.131750</td>\n",
       "      <td>32.298942</td>\n",
       "    </tr>\n",
       "    <tr>\n",
       "      <th>1</th>\n",
       "      <td>1</td>\n",
       "      <td>22.866685</td>\n",
       "      <td>4.780284</td>\n",
       "      <td>23.956938</td>\n",
       "      <td>19.624014</td>\n",
       "    </tr>\n",
       "    <tr>\n",
       "      <th>2</th>\n",
       "      <td>1</td>\n",
       "      <td>22.507301</td>\n",
       "      <td>74.944776</td>\n",
       "      <td>78.403583</td>\n",
       "      <td>35.901882</td>\n",
       "    </tr>\n",
       "    <tr>\n",
       "      <th>3</th>\n",
       "      <td>1</td>\n",
       "      <td>26.548768</td>\n",
       "      <td>72.816074</td>\n",
       "      <td>80.294550</td>\n",
       "      <td>60.397062</td>\n",
       "    </tr>\n",
       "    <tr>\n",
       "      <th>4</th>\n",
       "      <td>1</td>\n",
       "      <td>33.249689</td>\n",
       "      <td>45.784935</td>\n",
       "      <td>41.249892</td>\n",
       "      <td>43.171841</td>\n",
       "    </tr>\n",
       "  </tbody>\n",
       "</table>\n",
       "</div>"
      ],
      "text/plain": [
       "   label       DEMA      slowk      slowd        ADX\n",
       "0      0  21.470082  60.969460  51.131750  32.298942\n",
       "1      1  22.866685   4.780284  23.956938  19.624014\n",
       "2      1  22.507301  74.944776  78.403583  35.901882\n",
       "3      1  26.548768  72.816074  80.294550  60.397062\n",
       "4      1  33.249689  45.784935  41.249892  43.171841"
      ]
     },
     "execution_count": 5,
     "metadata": {},
     "output_type": "execute_result"
    }
   ],
   "source": [
    "data2.head()"
   ]
  },
  {
   "cell_type": "code",
   "execution_count": 6,
   "metadata": {},
   "outputs": [
    {
     "data": {
      "text/plain": [
       "label    False\n",
       "DEMA      True\n",
       "slowk     True\n",
       "slowd     True\n",
       "ADX       True\n",
       "dtype: bool"
      ]
     },
     "execution_count": 6,
     "metadata": {},
     "output_type": "execute_result"
    }
   ],
   "source": [
    "data2.isnull().any()"
   ]
  },
  {
   "cell_type": "code",
   "execution_count": 7,
   "metadata": {},
   "outputs": [
    {
     "data": {
      "text/plain": [
       "label    False\n",
       "DEMA     False\n",
       "slowk    False\n",
       "slowd    False\n",
       "ADX      False\n",
       "dtype: bool"
      ]
     },
     "execution_count": 7,
     "metadata": {},
     "output_type": "execute_result"
    }
   ],
   "source": [
    "data2 = data2.dropna(axis = 0)\n",
    "data2.isnull().any()"
   ]
  },
  {
   "cell_type": "code",
   "execution_count": 8,
   "metadata": {},
   "outputs": [
    {
     "data": {
      "text/plain": [
       "0        0\n",
       "1        1\n",
       "2        1\n",
       "3        1\n",
       "4        1\n",
       "        ..\n",
       "31942    1\n",
       "31943    0\n",
       "31944    0\n",
       "31945    0\n",
       "31946    0\n",
       "Name: label, Length: 31880, dtype: int64"
      ]
     },
     "execution_count": 8,
     "metadata": {},
     "output_type": "execute_result"
    }
   ],
   "source": [
    "y = data2[\"label\"]\n",
    "y"
   ]
  },
  {
   "cell_type": "code",
   "execution_count": 9,
   "metadata": {},
   "outputs": [],
   "source": [
    "X = data2.iloc[:, 1:]"
   ]
  },
  {
   "cell_type": "code",
   "execution_count": 10,
   "metadata": {},
   "outputs": [
    {
     "data": {
      "text/html": [
       "<div>\n",
       "<style scoped>\n",
       "    .dataframe tbody tr th:only-of-type {\n",
       "        vertical-align: middle;\n",
       "    }\n",
       "\n",
       "    .dataframe tbody tr th {\n",
       "        vertical-align: top;\n",
       "    }\n",
       "\n",
       "    .dataframe thead th {\n",
       "        text-align: right;\n",
       "    }\n",
       "</style>\n",
       "<table border=\"1\" class=\"dataframe\">\n",
       "  <thead>\n",
       "    <tr style=\"text-align: right;\">\n",
       "      <th></th>\n",
       "      <th>DEMA</th>\n",
       "      <th>slowk</th>\n",
       "      <th>slowd</th>\n",
       "      <th>ADX</th>\n",
       "    </tr>\n",
       "  </thead>\n",
       "  <tbody>\n",
       "    <tr>\n",
       "      <th>0</th>\n",
       "      <td>21.470082</td>\n",
       "      <td>60.969460</td>\n",
       "      <td>51.131750</td>\n",
       "      <td>32.298942</td>\n",
       "    </tr>\n",
       "    <tr>\n",
       "      <th>1</th>\n",
       "      <td>22.866685</td>\n",
       "      <td>4.780284</td>\n",
       "      <td>23.956938</td>\n",
       "      <td>19.624014</td>\n",
       "    </tr>\n",
       "    <tr>\n",
       "      <th>2</th>\n",
       "      <td>22.507301</td>\n",
       "      <td>74.944776</td>\n",
       "      <td>78.403583</td>\n",
       "      <td>35.901882</td>\n",
       "    </tr>\n",
       "    <tr>\n",
       "      <th>3</th>\n",
       "      <td>26.548768</td>\n",
       "      <td>72.816074</td>\n",
       "      <td>80.294550</td>\n",
       "      <td>60.397062</td>\n",
       "    </tr>\n",
       "    <tr>\n",
       "      <th>4</th>\n",
       "      <td>33.249689</td>\n",
       "      <td>45.784935</td>\n",
       "      <td>41.249892</td>\n",
       "      <td>43.171841</td>\n",
       "    </tr>\n",
       "    <tr>\n",
       "      <th>...</th>\n",
       "      <td>...</td>\n",
       "      <td>...</td>\n",
       "      <td>...</td>\n",
       "      <td>...</td>\n",
       "    </tr>\n",
       "    <tr>\n",
       "      <th>31942</th>\n",
       "      <td>57.541951</td>\n",
       "      <td>29.534371</td>\n",
       "      <td>31.739875</td>\n",
       "      <td>28.824795</td>\n",
       "    </tr>\n",
       "    <tr>\n",
       "      <th>31943</th>\n",
       "      <td>55.369944</td>\n",
       "      <td>25.409281</td>\n",
       "      <td>50.058392</td>\n",
       "      <td>17.435497</td>\n",
       "    </tr>\n",
       "    <tr>\n",
       "      <th>31944</th>\n",
       "      <td>56.474034</td>\n",
       "      <td>84.815580</td>\n",
       "      <td>80.881315</td>\n",
       "      <td>28.581986</td>\n",
       "    </tr>\n",
       "    <tr>\n",
       "      <th>31945</th>\n",
       "      <td>45.077673</td>\n",
       "      <td>35.182641</td>\n",
       "      <td>30.178113</td>\n",
       "      <td>37.405657</td>\n",
       "    </tr>\n",
       "    <tr>\n",
       "      <th>31946</th>\n",
       "      <td>48.126858</td>\n",
       "      <td>17.309265</td>\n",
       "      <td>26.266470</td>\n",
       "      <td>34.792915</td>\n",
       "    </tr>\n",
       "  </tbody>\n",
       "</table>\n",
       "<p>31880 rows × 4 columns</p>\n",
       "</div>"
      ],
      "text/plain": [
       "            DEMA      slowk      slowd        ADX\n",
       "0      21.470082  60.969460  51.131750  32.298942\n",
       "1      22.866685   4.780284  23.956938  19.624014\n",
       "2      22.507301  74.944776  78.403583  35.901882\n",
       "3      26.548768  72.816074  80.294550  60.397062\n",
       "4      33.249689  45.784935  41.249892  43.171841\n",
       "...          ...        ...        ...        ...\n",
       "31942  57.541951  29.534371  31.739875  28.824795\n",
       "31943  55.369944  25.409281  50.058392  17.435497\n",
       "31944  56.474034  84.815580  80.881315  28.581986\n",
       "31945  45.077673  35.182641  30.178113  37.405657\n",
       "31946  48.126858  17.309265  26.266470  34.792915\n",
       "\n",
       "[31880 rows x 4 columns]"
      ]
     },
     "execution_count": 10,
     "metadata": {},
     "output_type": "execute_result"
    }
   ],
   "source": [
    "X"
   ]
  },
  {
   "cell_type": "code",
   "execution_count": 11,
   "metadata": {},
   "outputs": [],
   "source": [
    "X = X.dropna(axis = 0)"
   ]
  },
  {
   "cell_type": "code",
   "execution_count": 12,
   "metadata": {},
   "outputs": [
    {
     "data": {
      "text/plain": [
       "DEMA     False\n",
       "slowk    False\n",
       "slowd    False\n",
       "ADX      False\n",
       "dtype: bool"
      ]
     },
     "execution_count": 12,
     "metadata": {},
     "output_type": "execute_result"
    }
   ],
   "source": [
    "X.isnull().any()"
   ]
  },
  {
   "cell_type": "code",
   "execution_count": 13,
   "metadata": {},
   "outputs": [
    {
     "data": {
      "text/plain": [
       "(31880, 4)"
      ]
     },
     "execution_count": 13,
     "metadata": {},
     "output_type": "execute_result"
    }
   ],
   "source": [
    "X.shape"
   ]
  },
  {
   "cell_type": "code",
   "execution_count": 14,
   "metadata": {},
   "outputs": [],
   "source": [
    "from sklearn.ensemble import RandomForestClassifier"
   ]
  },
  {
   "cell_type": "code",
   "execution_count": 15,
   "metadata": {},
   "outputs": [],
   "source": [
    "clf = RandomForestClassifier()"
   ]
  },
  {
   "cell_type": "code",
   "execution_count": 16,
   "metadata": {},
   "outputs": [
    {
     "data": {
      "text/plain": [
       "RandomForestClassifier(bootstrap=True, ccp_alpha=0.0, class_weight=None,\n",
       "                       criterion='gini', max_depth=None, max_features='auto',\n",
       "                       max_leaf_nodes=None, max_samples=None,\n",
       "                       min_impurity_decrease=0.0, min_impurity_split=None,\n",
       "                       min_samples_leaf=1, min_samples_split=2,\n",
       "                       min_weight_fraction_leaf=0.0, n_estimators=100,\n",
       "                       n_jobs=None, oob_score=False, random_state=None,\n",
       "                       verbose=0, warm_start=False)"
      ]
     },
     "execution_count": 16,
     "metadata": {},
     "output_type": "execute_result"
    }
   ],
   "source": [
    "clf.fit(X, y)"
   ]
  },
  {
   "cell_type": "code",
   "execution_count": 17,
   "metadata": {},
   "outputs": [],
   "source": [
    "testdata = pd.read_excel(\"sampleSubmission.xlsx\")"
   ]
  },
  {
   "cell_type": "code",
   "execution_count": 18,
   "metadata": {},
   "outputs": [
    {
     "data": {
      "text/plain": [
       "id       False\n",
       "label    False\n",
       "DEMA     False\n",
       "slowk    False\n",
       "slowd    False\n",
       "ADX      False\n",
       "dtype: bool"
      ]
     },
     "execution_count": 18,
     "metadata": {},
     "output_type": "execute_result"
    }
   ],
   "source": [
    "testdata = testdata.fillna(0)\n",
    "testdata.isnull().any()"
   ]
  },
  {
   "cell_type": "code",
   "execution_count": 19,
   "metadata": {},
   "outputs": [
    {
     "data": {
      "text/html": [
       "<div>\n",
       "<style scoped>\n",
       "    .dataframe tbody tr th:only-of-type {\n",
       "        vertical-align: middle;\n",
       "    }\n",
       "\n",
       "    .dataframe tbody tr th {\n",
       "        vertical-align: top;\n",
       "    }\n",
       "\n",
       "    .dataframe thead th {\n",
       "        text-align: right;\n",
       "    }\n",
       "</style>\n",
       "<table border=\"1\" class=\"dataframe\">\n",
       "  <thead>\n",
       "    <tr style=\"text-align: right;\">\n",
       "      <th></th>\n",
       "      <th>DEMA</th>\n",
       "      <th>slowk</th>\n",
       "      <th>slowd</th>\n",
       "      <th>ADX</th>\n",
       "    </tr>\n",
       "  </thead>\n",
       "  <tbody>\n",
       "    <tr>\n",
       "      <th>0</th>\n",
       "      <td>27.160600</td>\n",
       "      <td>81.916601</td>\n",
       "      <td>62.960458</td>\n",
       "      <td>41.780453</td>\n",
       "    </tr>\n",
       "    <tr>\n",
       "      <th>1</th>\n",
       "      <td>26.546511</td>\n",
       "      <td>20.106520</td>\n",
       "      <td>24.279438</td>\n",
       "      <td>18.060595</td>\n",
       "    </tr>\n",
       "    <tr>\n",
       "      <th>2</th>\n",
       "      <td>29.267527</td>\n",
       "      <td>67.170482</td>\n",
       "      <td>57.307365</td>\n",
       "      <td>44.382185</td>\n",
       "    </tr>\n",
       "    <tr>\n",
       "      <th>3</th>\n",
       "      <td>29.554422</td>\n",
       "      <td>40.705825</td>\n",
       "      <td>23.440401</td>\n",
       "      <td>25.625744</td>\n",
       "    </tr>\n",
       "    <tr>\n",
       "      <th>4</th>\n",
       "      <td>31.101743</td>\n",
       "      <td>13.716365</td>\n",
       "      <td>12.227212</td>\n",
       "      <td>34.070802</td>\n",
       "    </tr>\n",
       "    <tr>\n",
       "      <th>...</th>\n",
       "      <td>...</td>\n",
       "      <td>...</td>\n",
       "      <td>...</td>\n",
       "      <td>...</td>\n",
       "    </tr>\n",
       "    <tr>\n",
       "      <th>11358</th>\n",
       "      <td>85.586424</td>\n",
       "      <td>44.981611</td>\n",
       "      <td>42.218492</td>\n",
       "      <td>31.579202</td>\n",
       "    </tr>\n",
       "    <tr>\n",
       "      <th>11359</th>\n",
       "      <td>75.842190</td>\n",
       "      <td>13.648123</td>\n",
       "      <td>14.632642</td>\n",
       "      <td>54.604907</td>\n",
       "    </tr>\n",
       "    <tr>\n",
       "      <th>11360</th>\n",
       "      <td>71.075565</td>\n",
       "      <td>48.207106</td>\n",
       "      <td>30.501692</td>\n",
       "      <td>39.045596</td>\n",
       "    </tr>\n",
       "    <tr>\n",
       "      <th>11361</th>\n",
       "      <td>84.841770</td>\n",
       "      <td>83.415799</td>\n",
       "      <td>89.757279</td>\n",
       "      <td>52.629199</td>\n",
       "    </tr>\n",
       "    <tr>\n",
       "      <th>11362</th>\n",
       "      <td>81.433219</td>\n",
       "      <td>49.399452</td>\n",
       "      <td>35.006117</td>\n",
       "      <td>26.071845</td>\n",
       "    </tr>\n",
       "  </tbody>\n",
       "</table>\n",
       "<p>11363 rows × 4 columns</p>\n",
       "</div>"
      ],
      "text/plain": [
       "            DEMA      slowk      slowd        ADX\n",
       "0      27.160600  81.916601  62.960458  41.780453\n",
       "1      26.546511  20.106520  24.279438  18.060595\n",
       "2      29.267527  67.170482  57.307365  44.382185\n",
       "3      29.554422  40.705825  23.440401  25.625744\n",
       "4      31.101743  13.716365  12.227212  34.070802\n",
       "...          ...        ...        ...        ...\n",
       "11358  85.586424  44.981611  42.218492  31.579202\n",
       "11359  75.842190  13.648123  14.632642  54.604907\n",
       "11360  71.075565  48.207106  30.501692  39.045596\n",
       "11361  84.841770  83.415799  89.757279  52.629199\n",
       "11362  81.433219  49.399452  35.006117  26.071845\n",
       "\n",
       "[11363 rows x 4 columns]"
      ]
     },
     "execution_count": 19,
     "metadata": {},
     "output_type": "execute_result"
    }
   ],
   "source": [
    "testdata.iloc[:, 2:]"
   ]
  },
  {
   "cell_type": "code",
   "execution_count": 20,
   "metadata": {},
   "outputs": [],
   "source": [
    "result = clf.predict(testdata.iloc[:, 2:])"
   ]
  },
  {
   "cell_type": "code",
   "execution_count": 21,
   "metadata": {},
   "outputs": [],
   "source": [
    "pd.DataFrame(result).to_excel(\"prediction.xlsx\", index=False)"
   ]
  },
  {
   "cell_type": "code",
   "execution_count": null,
   "metadata": {},
   "outputs": [],
   "source": []
  }
 ],
 "metadata": {
  "kernelspec": {
   "display_name": "Python 3",
   "language": "python",
   "name": "python3"
  },
  "language_info": {
   "codemirror_mode": {
    "name": "ipython",
    "version": 3
   },
   "file_extension": ".py",
   "mimetype": "text/x-python",
   "name": "python",
   "nbconvert_exporter": "python",
   "pygments_lexer": "ipython3",
   "version": "3.6.10"
  }
 },
 "nbformat": 4,
 "nbformat_minor": 4
}
